{
 "cells": [
  {
   "cell_type": "code",
   "execution_count": 100,
   "id": "initial_id",
   "metadata": {
    "collapsed": true,
    "ExecuteTime": {
     "end_time": "2023-08-19T18:00:52.926598600Z",
     "start_time": "2023-08-19T18:00:52.872086Z"
    }
   },
   "outputs": [],
   "source": [
    "import pandas as pd\n",
    "import numpy as np\n",
    "import warnings\n",
    "warnings.filterwarnings('ignore')\n"
   ]
  },
  {
   "cell_type": "code",
   "execution_count": 101,
   "outputs": [],
   "source": [
    "from sklearn.pipeline import Pipeline\n",
    "import joblib\n",
    "\n",
    "target_pipeline: Pipeline = joblib.load('pipeline-bin/target_pipeline')\n",
    "prediction_pipeline: Pipeline =joblib.load('pipeline-bin/prediction_pipeline')\n"
   ],
   "metadata": {
    "collapsed": false,
    "ExecuteTime": {
     "end_time": "2023-08-19T18:00:52.926598600Z",
     "start_time": "2023-08-19T18:00:52.895264400Z"
    }
   },
   "id": "2842d31c1293c4ac"
  },
  {
   "cell_type": "code",
   "execution_count": 102,
   "outputs": [],
   "source": [
    "area = 1100\n",
    "bedrooms = 3\n",
    "bathrooms = 2\n",
    "stories = 1\n",
    "mainroad = 'yes'\n",
    "guestroom = 'yes'\n",
    "basement = 'yes'\n",
    "hotwater = 'yes'\n",
    "airconditioning = 'yes'\n",
    "parking = 1\n",
    "prefarea = 'yes'\n",
    "furnishing = 'furnished'\n"
   ],
   "metadata": {
    "collapsed": false,
    "ExecuteTime": {
     "end_time": "2023-08-19T18:00:52.926598600Z",
     "start_time": "2023-08-19T18:00:52.910886Z"
    }
   },
   "id": "8fc46116df7e8465"
  },
  {
   "cell_type": "code",
   "execution_count": 103,
   "outputs": [
    {
     "data": {
      "text/plain": "array([['1100', '3', '2', '1', 'yes', 'yes', 'yes', 'yes', 'yes', '1',\n        'yes', 'furnished']], dtype='<U11')"
     },
     "execution_count": 103,
     "metadata": {},
     "output_type": "execute_result"
    }
   ],
   "source": [
    "newdata = np.array([area,bedrooms,bathrooms,stories,mainroad, guestroom,basement,hotwater,airconditioning,parking,prefarea,furnishing])\n",
    "newdata = newdata.reshape(1,-1)\n",
    "newdata"
   ],
   "metadata": {
    "collapsed": false,
    "ExecuteTime": {
     "end_time": "2023-08-19T18:00:52.989939900Z",
     "start_time": "2023-08-19T18:00:52.942129400Z"
    }
   },
   "id": "1a5c5b74b0e64cfc"
  },
  {
   "cell_type": "code",
   "execution_count": 104,
   "outputs": [],
   "source": [
    "result = prediction_pipeline.predict(newdata)"
   ],
   "metadata": {
    "collapsed": false,
    "ExecuteTime": {
     "end_time": "2023-08-19T18:00:52.989939900Z",
     "start_time": "2023-08-19T18:00:52.957750500Z"
    }
   },
   "id": "1a30d1c908371b3a"
  },
  {
   "cell_type": "code",
   "execution_count": 105,
   "outputs": [],
   "source": [
    "result = target_pipeline.inverse_transform([result])"
   ],
   "metadata": {
    "collapsed": false,
    "ExecuteTime": {
     "end_time": "2023-08-19T18:00:53.029889900Z",
     "start_time": "2023-08-19T18:00:52.973396Z"
    }
   },
   "id": "77671cc62e1d790d"
  },
  {
   "cell_type": "code",
   "execution_count": 106,
   "outputs": [],
   "source": [
    "result = result.item()\n"
   ],
   "metadata": {
    "collapsed": false,
    "ExecuteTime": {
     "end_time": "2023-08-19T18:00:53.029889900Z",
     "start_time": "2023-08-19T18:00:52.989939900Z"
    }
   },
   "id": "6e989409d8f50b4e"
  },
  {
   "cell_type": "code",
   "execution_count": 107,
   "outputs": [
    {
     "name": "stdout",
     "output_type": "stream",
     "text": [
      "Expected house price: 7083943\n"
     ]
    }
   ],
   "source": [
    "print('Expected house price: {:.0f}'.format(result))"
   ],
   "metadata": {
    "collapsed": false,
    "ExecuteTime": {
     "end_time": "2023-08-19T18:00:53.029889900Z",
     "start_time": "2023-08-19T18:00:52.998617100Z"
    }
   },
   "id": "c44385e2018a2dc4"
  }
 ],
 "metadata": {
  "kernelspec": {
   "display_name": "Python 3",
   "language": "python",
   "name": "python3"
  },
  "language_info": {
   "codemirror_mode": {
    "name": "ipython",
    "version": 2
   },
   "file_extension": ".py",
   "mimetype": "text/x-python",
   "name": "python",
   "nbconvert_exporter": "python",
   "pygments_lexer": "ipython2",
   "version": "2.7.6"
  }
 },
 "nbformat": 4,
 "nbformat_minor": 5
}
