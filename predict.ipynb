{
 "cells": [
  {
   "cell_type": "code",
   "execution_count": 1,
   "id": "initial_id",
   "metadata": {
    "collapsed": true,
    "ExecuteTime": {
     "end_time": "2023-08-19T16:51:15.951092400Z",
     "start_time": "2023-08-19T16:51:15.499676900Z"
    }
   },
   "outputs": [],
   "source": [
    "import pandas as pd\n",
    "import numpy as np\n",
    "import warnings\n",
    "warnings.filterwarnings('ignore')\n",
    "\n",
    "dataset = pd.read_csv('Housing.csv', quoting=3)"
   ]
  },
  {
   "cell_type": "code",
   "execution_count": 2,
   "outputs": [],
   "source": [
    "X = dataset.drop(columns='price')\n",
    "y = dataset['price'].values.reshape(-1,1)"
   ],
   "metadata": {
    "collapsed": false,
    "ExecuteTime": {
     "end_time": "2023-08-19T16:51:15.966714400Z",
     "start_time": "2023-08-19T16:51:15.951092400Z"
    }
   },
   "id": "a3538467a04186bd"
  },
  {
   "cell_type": "code",
   "execution_count": 3,
   "outputs": [],
   "source": [
    "from sklearn.model_selection import train_test_split\n",
    "\n",
    "X_train,X_test,y_train,y_test = train_test_split(X,y, test_size=0.2, random_state=100)"
   ],
   "metadata": {
    "collapsed": false,
    "ExecuteTime": {
     "end_time": "2023-08-19T16:51:16.712028600Z",
     "start_time": "2023-08-19T16:51:15.966714400Z"
    }
   },
   "id": "9891f21e3e519f36"
  },
  {
   "cell_type": "code",
   "execution_count": 4,
   "outputs": [],
   "source": [
    "from sklearn.linear_model import BayesianRidge\n",
    "\n",
    "regressor = BayesianRidge(max_iter=20000)\n"
   ],
   "metadata": {
    "collapsed": false,
    "ExecuteTime": {
     "end_time": "2023-08-19T16:51:16.763023400Z",
     "start_time": "2023-08-19T16:51:16.714024100Z"
    }
   },
   "id": "3f0a1ac4d66daff2"
  },
  {
   "cell_type": "code",
   "execution_count": 5,
   "outputs": [],
   "source": [
    "from sklearn.compose import ColumnTransformer\n",
    "from sklearn.pipeline import Pipeline\n",
    "from sklearn.preprocessing import OrdinalEncoder, StandardScaler, MinMaxScaler\n",
    "\n",
    "\n",
    "no_yes_encoder = OrdinalEncoder(categories=[['no','yes'],['no','yes'],['no','yes'],['no','yes'],['no','yes'],['no','yes']])\n",
    "\n",
    "\n",
    "steps = [\n",
    "    ('no_yes',no_yes_encoder,[4,5,6,7,8,10]),\n",
    "    ('furnishing', OrdinalEncoder(categories=[['unfurnished','semi-furnished','furnished']]), [11]),\n",
    "    #('drop_columns','drop',[10,11])\n",
    "]\n",
    "preprocessor = ColumnTransformer(transformers=steps, remainder='passthrough')"
   ],
   "metadata": {
    "collapsed": false,
    "ExecuteTime": {
     "end_time": "2023-08-19T16:51:16.778644700Z",
     "start_time": "2023-08-19T16:51:16.763023400Z"
    }
   },
   "id": "ccb967d475b74770"
  },
  {
   "cell_type": "code",
   "execution_count": 6,
   "outputs": [
    {
     "data": {
      "text/plain": "Pipeline(steps=[('scaler', StandardScaler())])",
      "text/html": "<style>#sk-container-id-1 {color: black;}#sk-container-id-1 pre{padding: 0;}#sk-container-id-1 div.sk-toggleable {background-color: white;}#sk-container-id-1 label.sk-toggleable__label {cursor: pointer;display: block;width: 100%;margin-bottom: 0;padding: 0.3em;box-sizing: border-box;text-align: center;}#sk-container-id-1 label.sk-toggleable__label-arrow:before {content: \"▸\";float: left;margin-right: 0.25em;color: #696969;}#sk-container-id-1 label.sk-toggleable__label-arrow:hover:before {color: black;}#sk-container-id-1 div.sk-estimator:hover label.sk-toggleable__label-arrow:before {color: black;}#sk-container-id-1 div.sk-toggleable__content {max-height: 0;max-width: 0;overflow: hidden;text-align: left;background-color: #f0f8ff;}#sk-container-id-1 div.sk-toggleable__content pre {margin: 0.2em;color: black;border-radius: 0.25em;background-color: #f0f8ff;}#sk-container-id-1 input.sk-toggleable__control:checked~div.sk-toggleable__content {max-height: 200px;max-width: 100%;overflow: auto;}#sk-container-id-1 input.sk-toggleable__control:checked~label.sk-toggleable__label-arrow:before {content: \"▾\";}#sk-container-id-1 div.sk-estimator input.sk-toggleable__control:checked~label.sk-toggleable__label {background-color: #d4ebff;}#sk-container-id-1 div.sk-label input.sk-toggleable__control:checked~label.sk-toggleable__label {background-color: #d4ebff;}#sk-container-id-1 input.sk-hidden--visually {border: 0;clip: rect(1px 1px 1px 1px);clip: rect(1px, 1px, 1px, 1px);height: 1px;margin: -1px;overflow: hidden;padding: 0;position: absolute;width: 1px;}#sk-container-id-1 div.sk-estimator {font-family: monospace;background-color: #f0f8ff;border: 1px dotted black;border-radius: 0.25em;box-sizing: border-box;margin-bottom: 0.5em;}#sk-container-id-1 div.sk-estimator:hover {background-color: #d4ebff;}#sk-container-id-1 div.sk-parallel-item::after {content: \"\";width: 100%;border-bottom: 1px solid gray;flex-grow: 1;}#sk-container-id-1 div.sk-label:hover label.sk-toggleable__label {background-color: #d4ebff;}#sk-container-id-1 div.sk-serial::before {content: \"\";position: absolute;border-left: 1px solid gray;box-sizing: border-box;top: 0;bottom: 0;left: 50%;z-index: 0;}#sk-container-id-1 div.sk-serial {display: flex;flex-direction: column;align-items: center;background-color: white;padding-right: 0.2em;padding-left: 0.2em;position: relative;}#sk-container-id-1 div.sk-item {position: relative;z-index: 1;}#sk-container-id-1 div.sk-parallel {display: flex;align-items: stretch;justify-content: center;background-color: white;position: relative;}#sk-container-id-1 div.sk-item::before, #sk-container-id-1 div.sk-parallel-item::before {content: \"\";position: absolute;border-left: 1px solid gray;box-sizing: border-box;top: 0;bottom: 0;left: 50%;z-index: -1;}#sk-container-id-1 div.sk-parallel-item {display: flex;flex-direction: column;z-index: 1;position: relative;background-color: white;}#sk-container-id-1 div.sk-parallel-item:first-child::after {align-self: flex-end;width: 50%;}#sk-container-id-1 div.sk-parallel-item:last-child::after {align-self: flex-start;width: 50%;}#sk-container-id-1 div.sk-parallel-item:only-child::after {width: 0;}#sk-container-id-1 div.sk-dashed-wrapped {border: 1px dashed gray;margin: 0 0.4em 0.5em 0.4em;box-sizing: border-box;padding-bottom: 0.4em;background-color: white;}#sk-container-id-1 div.sk-label label {font-family: monospace;font-weight: bold;display: inline-block;line-height: 1.2em;}#sk-container-id-1 div.sk-label-container {text-align: center;}#sk-container-id-1 div.sk-container {/* jupyter's `normalize.less` sets `[hidden] { display: none; }` but bootstrap.min.css set `[hidden] { display: none !important; }` so we also need the `!important` here to be able to override the default hidden behavior on the sphinx rendered scikit-learn.org. See: https://github.com/scikit-learn/scikit-learn/issues/21755 */display: inline-block !important;position: relative;}#sk-container-id-1 div.sk-text-repr-fallback {display: none;}</style><div id=\"sk-container-id-1\" class=\"sk-top-container\"><div class=\"sk-text-repr-fallback\"><pre>Pipeline(steps=[(&#x27;scaler&#x27;, StandardScaler())])</pre><b>In a Jupyter environment, please rerun this cell to show the HTML representation or trust the notebook. <br />On GitHub, the HTML representation is unable to render, please try loading this page with nbviewer.org.</b></div><div class=\"sk-container\" hidden><div class=\"sk-item sk-dashed-wrapped\"><div class=\"sk-label-container\"><div class=\"sk-label sk-toggleable\"><input class=\"sk-toggleable__control sk-hidden--visually\" id=\"sk-estimator-id-1\" type=\"checkbox\" ><label for=\"sk-estimator-id-1\" class=\"sk-toggleable__label sk-toggleable__label-arrow\">Pipeline</label><div class=\"sk-toggleable__content\"><pre>Pipeline(steps=[(&#x27;scaler&#x27;, StandardScaler())])</pre></div></div></div><div class=\"sk-serial\"><div class=\"sk-item\"><div class=\"sk-estimator sk-toggleable\"><input class=\"sk-toggleable__control sk-hidden--visually\" id=\"sk-estimator-id-2\" type=\"checkbox\" ><label for=\"sk-estimator-id-2\" class=\"sk-toggleable__label sk-toggleable__label-arrow\">StandardScaler</label><div class=\"sk-toggleable__content\"><pre>StandardScaler()</pre></div></div></div></div></div></div></div>"
     },
     "execution_count": 6,
     "metadata": {},
     "output_type": "execute_result"
    }
   ],
   "source": [
    "target_pipeline = Pipeline(steps=[('scaler',StandardScaler())])\n",
    "target_pipeline.fit(y_train)"
   ],
   "metadata": {
    "collapsed": false,
    "ExecuteTime": {
     "end_time": "2023-08-19T16:51:16.814897900Z",
     "start_time": "2023-08-19T16:51:16.778644700Z"
    }
   },
   "id": "6db674afe0c054e9"
  },
  {
   "cell_type": "code",
   "execution_count": 7,
   "outputs": [],
   "source": [
    "\n",
    "regressor_pipeline = Pipeline(\n",
    "    steps=[('preprocessor', preprocessor),\n",
    "           ('scaler', MinMaxScaler()),\n",
    "           ('bayesian_ridge', regressor)])\n"
   ],
   "metadata": {
    "collapsed": false,
    "ExecuteTime": {
     "end_time": "2023-08-19T16:51:16.829749500Z",
     "start_time": "2023-08-19T16:51:16.794266300Z"
    }
   },
   "id": "c7e305c3660fc64f"
  },
  {
   "cell_type": "code",
   "execution_count": 8,
   "outputs": [
    {
     "data": {
      "text/plain": "GridSearchCV(cv=5,\n             estimator=Pipeline(steps=[('preprocessor',\n                                        ColumnTransformer(remainder='passthrough',\n                                                          transformers=[('no_yes',\n                                                                         OrdinalEncoder(categories=[['no',\n                                                                                                     'yes'],\n                                                                                                    ['no',\n                                                                                                     'yes'],\n                                                                                                    ['no',\n                                                                                                     'yes'],\n                                                                                                    ['no',\n                                                                                                     'yes'],\n                                                                                                    ['no',\n                                                                                                     'yes'],\n                                                                                                    ['no',\n                                                                                                     'yes']]),\n                                                                         [4, 5,\n                                                                          6, 7,\n                                                                          8,\n                                                                          10]),\n                                                                        ('furnishing',\n                                                                         OrdinalEncoder(categories=[['unfurnished',\n                                                                                                     'semi-furnished',\n                                                                                                     'furnished']]),\n                                                                         [11])])),\n                                       ('sc...\n       1.9e-06, 2.0e-06]),\n                          'bayesian_ridge__lambda_1': array([5.0e-07, 6.0e-07, 7.0e-07, 8.0e-07, 9.0e-07, 1.0e-06, 1.1e-06,\n       1.2e-06, 1.3e-06, 1.4e-06, 1.5e-06, 1.6e-06, 1.7e-06, 1.8e-06,\n       1.9e-06, 2.0e-06]),\n                          'bayesian_ridge__lambda_2': array([5.0e-07, 6.0e-07, 7.0e-07, 8.0e-07, 9.0e-07, 1.0e-06, 1.1e-06,\n       1.2e-06, 1.3e-06, 1.4e-06, 1.5e-06, 1.6e-06, 1.7e-06, 1.8e-06,\n       1.9e-06, 2.0e-06])}],\n             scoring='r2')",
      "text/html": "<style>#sk-container-id-2 {color: black;}#sk-container-id-2 pre{padding: 0;}#sk-container-id-2 div.sk-toggleable {background-color: white;}#sk-container-id-2 label.sk-toggleable__label {cursor: pointer;display: block;width: 100%;margin-bottom: 0;padding: 0.3em;box-sizing: border-box;text-align: center;}#sk-container-id-2 label.sk-toggleable__label-arrow:before {content: \"▸\";float: left;margin-right: 0.25em;color: #696969;}#sk-container-id-2 label.sk-toggleable__label-arrow:hover:before {color: black;}#sk-container-id-2 div.sk-estimator:hover label.sk-toggleable__label-arrow:before {color: black;}#sk-container-id-2 div.sk-toggleable__content {max-height: 0;max-width: 0;overflow: hidden;text-align: left;background-color: #f0f8ff;}#sk-container-id-2 div.sk-toggleable__content pre {margin: 0.2em;color: black;border-radius: 0.25em;background-color: #f0f8ff;}#sk-container-id-2 input.sk-toggleable__control:checked~div.sk-toggleable__content {max-height: 200px;max-width: 100%;overflow: auto;}#sk-container-id-2 input.sk-toggleable__control:checked~label.sk-toggleable__label-arrow:before {content: \"▾\";}#sk-container-id-2 div.sk-estimator input.sk-toggleable__control:checked~label.sk-toggleable__label {background-color: #d4ebff;}#sk-container-id-2 div.sk-label input.sk-toggleable__control:checked~label.sk-toggleable__label {background-color: #d4ebff;}#sk-container-id-2 input.sk-hidden--visually {border: 0;clip: rect(1px 1px 1px 1px);clip: rect(1px, 1px, 1px, 1px);height: 1px;margin: -1px;overflow: hidden;padding: 0;position: absolute;width: 1px;}#sk-container-id-2 div.sk-estimator {font-family: monospace;background-color: #f0f8ff;border: 1px dotted black;border-radius: 0.25em;box-sizing: border-box;margin-bottom: 0.5em;}#sk-container-id-2 div.sk-estimator:hover {background-color: #d4ebff;}#sk-container-id-2 div.sk-parallel-item::after {content: \"\";width: 100%;border-bottom: 1px solid gray;flex-grow: 1;}#sk-container-id-2 div.sk-label:hover label.sk-toggleable__label {background-color: #d4ebff;}#sk-container-id-2 div.sk-serial::before {content: \"\";position: absolute;border-left: 1px solid gray;box-sizing: border-box;top: 0;bottom: 0;left: 50%;z-index: 0;}#sk-container-id-2 div.sk-serial {display: flex;flex-direction: column;align-items: center;background-color: white;padding-right: 0.2em;padding-left: 0.2em;position: relative;}#sk-container-id-2 div.sk-item {position: relative;z-index: 1;}#sk-container-id-2 div.sk-parallel {display: flex;align-items: stretch;justify-content: center;background-color: white;position: relative;}#sk-container-id-2 div.sk-item::before, #sk-container-id-2 div.sk-parallel-item::before {content: \"\";position: absolute;border-left: 1px solid gray;box-sizing: border-box;top: 0;bottom: 0;left: 50%;z-index: -1;}#sk-container-id-2 div.sk-parallel-item {display: flex;flex-direction: column;z-index: 1;position: relative;background-color: white;}#sk-container-id-2 div.sk-parallel-item:first-child::after {align-self: flex-end;width: 50%;}#sk-container-id-2 div.sk-parallel-item:last-child::after {align-self: flex-start;width: 50%;}#sk-container-id-2 div.sk-parallel-item:only-child::after {width: 0;}#sk-container-id-2 div.sk-dashed-wrapped {border: 1px dashed gray;margin: 0 0.4em 0.5em 0.4em;box-sizing: border-box;padding-bottom: 0.4em;background-color: white;}#sk-container-id-2 div.sk-label label {font-family: monospace;font-weight: bold;display: inline-block;line-height: 1.2em;}#sk-container-id-2 div.sk-label-container {text-align: center;}#sk-container-id-2 div.sk-container {/* jupyter's `normalize.less` sets `[hidden] { display: none; }` but bootstrap.min.css set `[hidden] { display: none !important; }` so we also need the `!important` here to be able to override the default hidden behavior on the sphinx rendered scikit-learn.org. See: https://github.com/scikit-learn/scikit-learn/issues/21755 */display: inline-block !important;position: relative;}#sk-container-id-2 div.sk-text-repr-fallback {display: none;}</style><div id=\"sk-container-id-2\" class=\"sk-top-container\"><div class=\"sk-text-repr-fallback\"><pre>GridSearchCV(cv=5,\n             estimator=Pipeline(steps=[(&#x27;preprocessor&#x27;,\n                                        ColumnTransformer(remainder=&#x27;passthrough&#x27;,\n                                                          transformers=[(&#x27;no_yes&#x27;,\n                                                                         OrdinalEncoder(categories=[[&#x27;no&#x27;,\n                                                                                                     &#x27;yes&#x27;],\n                                                                                                    [&#x27;no&#x27;,\n                                                                                                     &#x27;yes&#x27;],\n                                                                                                    [&#x27;no&#x27;,\n                                                                                                     &#x27;yes&#x27;],\n                                                                                                    [&#x27;no&#x27;,\n                                                                                                     &#x27;yes&#x27;],\n                                                                                                    [&#x27;no&#x27;,\n                                                                                                     &#x27;yes&#x27;],\n                                                                                                    [&#x27;no&#x27;,\n                                                                                                     &#x27;yes&#x27;]]),\n                                                                         [4, 5,\n                                                                          6, 7,\n                                                                          8,\n                                                                          10]),\n                                                                        (&#x27;furnishing&#x27;,\n                                                                         OrdinalEncoder(categories=[[&#x27;unfurnished&#x27;,\n                                                                                                     &#x27;semi-furnished&#x27;,\n                                                                                                     &#x27;furnished&#x27;]]),\n                                                                         [11])])),\n                                       (&#x27;sc...\n       1.9e-06, 2.0e-06]),\n                          &#x27;bayesian_ridge__lambda_1&#x27;: array([5.0e-07, 6.0e-07, 7.0e-07, 8.0e-07, 9.0e-07, 1.0e-06, 1.1e-06,\n       1.2e-06, 1.3e-06, 1.4e-06, 1.5e-06, 1.6e-06, 1.7e-06, 1.8e-06,\n       1.9e-06, 2.0e-06]),\n                          &#x27;bayesian_ridge__lambda_2&#x27;: array([5.0e-07, 6.0e-07, 7.0e-07, 8.0e-07, 9.0e-07, 1.0e-06, 1.1e-06,\n       1.2e-06, 1.3e-06, 1.4e-06, 1.5e-06, 1.6e-06, 1.7e-06, 1.8e-06,\n       1.9e-06, 2.0e-06])}],\n             scoring=&#x27;r2&#x27;)</pre><b>In a Jupyter environment, please rerun this cell to show the HTML representation or trust the notebook. <br />On GitHub, the HTML representation is unable to render, please try loading this page with nbviewer.org.</b></div><div class=\"sk-container\" hidden><div class=\"sk-item sk-dashed-wrapped\"><div class=\"sk-label-container\"><div class=\"sk-label sk-toggleable\"><input class=\"sk-toggleable__control sk-hidden--visually\" id=\"sk-estimator-id-3\" type=\"checkbox\" ><label for=\"sk-estimator-id-3\" class=\"sk-toggleable__label sk-toggleable__label-arrow\">GridSearchCV</label><div class=\"sk-toggleable__content\"><pre>GridSearchCV(cv=5,\n             estimator=Pipeline(steps=[(&#x27;preprocessor&#x27;,\n                                        ColumnTransformer(remainder=&#x27;passthrough&#x27;,\n                                                          transformers=[(&#x27;no_yes&#x27;,\n                                                                         OrdinalEncoder(categories=[[&#x27;no&#x27;,\n                                                                                                     &#x27;yes&#x27;],\n                                                                                                    [&#x27;no&#x27;,\n                                                                                                     &#x27;yes&#x27;],\n                                                                                                    [&#x27;no&#x27;,\n                                                                                                     &#x27;yes&#x27;],\n                                                                                                    [&#x27;no&#x27;,\n                                                                                                     &#x27;yes&#x27;],\n                                                                                                    [&#x27;no&#x27;,\n                                                                                                     &#x27;yes&#x27;],\n                                                                                                    [&#x27;no&#x27;,\n                                                                                                     &#x27;yes&#x27;]]),\n                                                                         [4, 5,\n                                                                          6, 7,\n                                                                          8,\n                                                                          10]),\n                                                                        (&#x27;furnishing&#x27;,\n                                                                         OrdinalEncoder(categories=[[&#x27;unfurnished&#x27;,\n                                                                                                     &#x27;semi-furnished&#x27;,\n                                                                                                     &#x27;furnished&#x27;]]),\n                                                                         [11])])),\n                                       (&#x27;sc...\n       1.9e-06, 2.0e-06]),\n                          &#x27;bayesian_ridge__lambda_1&#x27;: array([5.0e-07, 6.0e-07, 7.0e-07, 8.0e-07, 9.0e-07, 1.0e-06, 1.1e-06,\n       1.2e-06, 1.3e-06, 1.4e-06, 1.5e-06, 1.6e-06, 1.7e-06, 1.8e-06,\n       1.9e-06, 2.0e-06]),\n                          &#x27;bayesian_ridge__lambda_2&#x27;: array([5.0e-07, 6.0e-07, 7.0e-07, 8.0e-07, 9.0e-07, 1.0e-06, 1.1e-06,\n       1.2e-06, 1.3e-06, 1.4e-06, 1.5e-06, 1.6e-06, 1.7e-06, 1.8e-06,\n       1.9e-06, 2.0e-06])}],\n             scoring=&#x27;r2&#x27;)</pre></div></div></div><div class=\"sk-parallel\"><div class=\"sk-parallel-item\"><div class=\"sk-item\"><div class=\"sk-label-container\"><div class=\"sk-label sk-toggleable\"><input class=\"sk-toggleable__control sk-hidden--visually\" id=\"sk-estimator-id-4\" type=\"checkbox\" ><label for=\"sk-estimator-id-4\" class=\"sk-toggleable__label sk-toggleable__label-arrow\">estimator: Pipeline</label><div class=\"sk-toggleable__content\"><pre>Pipeline(steps=[(&#x27;preprocessor&#x27;,\n                 ColumnTransformer(remainder=&#x27;passthrough&#x27;,\n                                   transformers=[(&#x27;no_yes&#x27;,\n                                                  OrdinalEncoder(categories=[[&#x27;no&#x27;,\n                                                                              &#x27;yes&#x27;],\n                                                                             [&#x27;no&#x27;,\n                                                                              &#x27;yes&#x27;],\n                                                                             [&#x27;no&#x27;,\n                                                                              &#x27;yes&#x27;],\n                                                                             [&#x27;no&#x27;,\n                                                                              &#x27;yes&#x27;],\n                                                                             [&#x27;no&#x27;,\n                                                                              &#x27;yes&#x27;],\n                                                                             [&#x27;no&#x27;,\n                                                                              &#x27;yes&#x27;]]),\n                                                  [4, 5, 6, 7, 8, 10]),\n                                                 (&#x27;furnishing&#x27;,\n                                                  OrdinalEncoder(categories=[[&#x27;unfurnished&#x27;,\n                                                                              &#x27;semi-furnished&#x27;,\n                                                                              &#x27;furnished&#x27;]]),\n                                                  [11])])),\n                (&#x27;scaler&#x27;, MinMaxScaler()),\n                (&#x27;bayesian_ridge&#x27;, BayesianRidge(max_iter=20000))])</pre></div></div></div><div class=\"sk-serial\"><div class=\"sk-item\"><div class=\"sk-serial\"><div class=\"sk-item sk-dashed-wrapped\"><div class=\"sk-label-container\"><div class=\"sk-label sk-toggleable\"><input class=\"sk-toggleable__control sk-hidden--visually\" id=\"sk-estimator-id-5\" type=\"checkbox\" ><label for=\"sk-estimator-id-5\" class=\"sk-toggleable__label sk-toggleable__label-arrow\">preprocessor: ColumnTransformer</label><div class=\"sk-toggleable__content\"><pre>ColumnTransformer(remainder=&#x27;passthrough&#x27;,\n                  transformers=[(&#x27;no_yes&#x27;,\n                                 OrdinalEncoder(categories=[[&#x27;no&#x27;, &#x27;yes&#x27;],\n                                                            [&#x27;no&#x27;, &#x27;yes&#x27;],\n                                                            [&#x27;no&#x27;, &#x27;yes&#x27;],\n                                                            [&#x27;no&#x27;, &#x27;yes&#x27;],\n                                                            [&#x27;no&#x27;, &#x27;yes&#x27;],\n                                                            [&#x27;no&#x27;, &#x27;yes&#x27;]]),\n                                 [4, 5, 6, 7, 8, 10]),\n                                (&#x27;furnishing&#x27;,\n                                 OrdinalEncoder(categories=[[&#x27;unfurnished&#x27;,\n                                                             &#x27;semi-furnished&#x27;,\n                                                             &#x27;furnished&#x27;]]),\n                                 [11])])</pre></div></div></div><div class=\"sk-parallel\"><div class=\"sk-parallel-item\"><div class=\"sk-item\"><div class=\"sk-label-container\"><div class=\"sk-label sk-toggleable\"><input class=\"sk-toggleable__control sk-hidden--visually\" id=\"sk-estimator-id-6\" type=\"checkbox\" ><label for=\"sk-estimator-id-6\" class=\"sk-toggleable__label sk-toggleable__label-arrow\">no_yes</label><div class=\"sk-toggleable__content\"><pre>[4, 5, 6, 7, 8, 10]</pre></div></div></div><div class=\"sk-serial\"><div class=\"sk-item\"><div class=\"sk-estimator sk-toggleable\"><input class=\"sk-toggleable__control sk-hidden--visually\" id=\"sk-estimator-id-7\" type=\"checkbox\" ><label for=\"sk-estimator-id-7\" class=\"sk-toggleable__label sk-toggleable__label-arrow\">OrdinalEncoder</label><div class=\"sk-toggleable__content\"><pre>OrdinalEncoder(categories=[[&#x27;no&#x27;, &#x27;yes&#x27;], [&#x27;no&#x27;, &#x27;yes&#x27;], [&#x27;no&#x27;, &#x27;yes&#x27;],\n                           [&#x27;no&#x27;, &#x27;yes&#x27;], [&#x27;no&#x27;, &#x27;yes&#x27;], [&#x27;no&#x27;, &#x27;yes&#x27;]])</pre></div></div></div></div></div></div><div class=\"sk-parallel-item\"><div class=\"sk-item\"><div class=\"sk-label-container\"><div class=\"sk-label sk-toggleable\"><input class=\"sk-toggleable__control sk-hidden--visually\" id=\"sk-estimator-id-8\" type=\"checkbox\" ><label for=\"sk-estimator-id-8\" class=\"sk-toggleable__label sk-toggleable__label-arrow\">furnishing</label><div class=\"sk-toggleable__content\"><pre>[11]</pre></div></div></div><div class=\"sk-serial\"><div class=\"sk-item\"><div class=\"sk-estimator sk-toggleable\"><input class=\"sk-toggleable__control sk-hidden--visually\" id=\"sk-estimator-id-9\" type=\"checkbox\" ><label for=\"sk-estimator-id-9\" class=\"sk-toggleable__label sk-toggleable__label-arrow\">OrdinalEncoder</label><div class=\"sk-toggleable__content\"><pre>OrdinalEncoder(categories=[[&#x27;unfurnished&#x27;, &#x27;semi-furnished&#x27;, &#x27;furnished&#x27;]])</pre></div></div></div></div></div></div><div class=\"sk-parallel-item\"><div class=\"sk-item\"><div class=\"sk-label-container\"><div class=\"sk-label sk-toggleable\"><input class=\"sk-toggleable__control sk-hidden--visually\" id=\"sk-estimator-id-10\" type=\"checkbox\" ><label for=\"sk-estimator-id-10\" class=\"sk-toggleable__label sk-toggleable__label-arrow\">remainder</label><div class=\"sk-toggleable__content\"><pre></pre></div></div></div><div class=\"sk-serial\"><div class=\"sk-item\"><div class=\"sk-estimator sk-toggleable\"><input class=\"sk-toggleable__control sk-hidden--visually\" id=\"sk-estimator-id-11\" type=\"checkbox\" ><label for=\"sk-estimator-id-11\" class=\"sk-toggleable__label sk-toggleable__label-arrow\">passthrough</label><div class=\"sk-toggleable__content\"><pre>passthrough</pre></div></div></div></div></div></div></div></div><div class=\"sk-item\"><div class=\"sk-estimator sk-toggleable\"><input class=\"sk-toggleable__control sk-hidden--visually\" id=\"sk-estimator-id-12\" type=\"checkbox\" ><label for=\"sk-estimator-id-12\" class=\"sk-toggleable__label sk-toggleable__label-arrow\">MinMaxScaler</label><div class=\"sk-toggleable__content\"><pre>MinMaxScaler()</pre></div></div></div><div class=\"sk-item\"><div class=\"sk-estimator sk-toggleable\"><input class=\"sk-toggleable__control sk-hidden--visually\" id=\"sk-estimator-id-13\" type=\"checkbox\" ><label for=\"sk-estimator-id-13\" class=\"sk-toggleable__label sk-toggleable__label-arrow\">BayesianRidge</label><div class=\"sk-toggleable__content\"><pre>BayesianRidge(max_iter=20000)</pre></div></div></div></div></div></div></div></div></div></div></div></div>"
     },
     "execution_count": 8,
     "metadata": {},
     "output_type": "execute_result"
    }
   ],
   "source": [
    "from sklearn.model_selection import GridSearchCV\n",
    "\n",
    "params = [{'bayesian_ridge__alpha_1': np.arange(5e-7,2e-6,1e-7),\n",
    "           'bayesian_ridge__alpha_2': np.arange(5e-7,2e-6,1e-7), \n",
    "           'bayesian_ridge__lambda_1':np.arange(5e-7,2e-6,1e-7),\n",
    "           'bayesian_ridge__lambda_2':np.arange(5e-7,2e-6,1e-7)}]\n",
    "\n",
    "grid = GridSearchCV(regressor_pipeline,param_grid=params, n_jobs=-1, cv=5, scoring='r2',refit=True)\n",
    "grid.fit(X_train,target_pipeline.transform(y_train))"
   ],
   "metadata": {
    "collapsed": false,
    "ExecuteTime": {
     "end_time": "2023-08-19T17:04:35.161441200Z",
     "start_time": "2023-08-19T16:51:16.809887600Z"
    }
   },
   "id": "98e8da7b0404e589"
  },
  {
   "cell_type": "code",
   "execution_count": 9,
   "outputs": [],
   "source": [
    "best_pipeline = grid.best_estimator_"
   ],
   "metadata": {
    "collapsed": false,
    "ExecuteTime": {
     "end_time": "2023-08-19T17:04:35.177062500Z",
     "start_time": "2023-08-19T17:04:35.161441200Z"
    }
   },
   "id": "2c62264411ec875c"
  },
  {
   "cell_type": "code",
   "execution_count": 10,
   "outputs": [],
   "source": [
    "from sklearn.metrics import mean_squared_error, r2_score\n",
    "\n",
    "def adjusted_r2(y_true: np.ndarray, y_pred: np.ndarray, num_rows: np.intc, num_cols: np.intc):\n",
    "    return 1-((1-r2_score(y_true,y_pred))*(num_rows-1)/(num_rows-num_cols-1))"
   ],
   "metadata": {
    "collapsed": false,
    "ExecuteTime": {
     "end_time": "2023-08-19T17:04:35.221898600Z",
     "start_time": "2023-08-19T17:04:35.177062500Z"
    }
   },
   "id": "5e99edcfe4a23ff8"
  },
  {
   "cell_type": "code",
   "execution_count": 11,
   "outputs": [],
   "source": [
    "\n",
    "\n",
    "y_true = target_pipeline.transform(y_test)\n",
    "y_pred = best_pipeline.predict(X_test)\n",
    "results = {'RMSE': np.sqrt(mean_squared_error(y_true, y_pred)),'Adjusted R2': adjusted_r2(y_true,y_pred, len(y_true), grid.n_features_in_)}"
   ],
   "metadata": {
    "collapsed": false,
    "ExecuteTime": {
     "end_time": "2023-08-19T17:04:35.222896900Z",
     "start_time": "2023-08-19T17:04:35.192684100Z"
    }
   },
   "id": "1884fdc10b6bc3b"
  },
  {
   "cell_type": "code",
   "execution_count": 12,
   "outputs": [
    {
     "data": {
      "text/plain": "['pipeline-bin/prediction_pipeline']"
     },
     "execution_count": 12,
     "metadata": {},
     "output_type": "execute_result"
    }
   ],
   "source": [
    "import joblib\n",
    "\n",
    "joblib.dump(target_pipeline,'pipeline-bin/target_pipeline')\n",
    "joblib.dump(best_pipeline,'pipeline-bin/prediction_pipeline')"
   ],
   "metadata": {
    "collapsed": false,
    "ExecuteTime": {
     "end_time": "2023-08-19T17:04:35.282070200Z",
     "start_time": "2023-08-19T17:04:35.208305900Z"
    }
   },
   "id": "d5c674b01527b85e"
  },
  {
   "cell_type": "code",
   "execution_count": 13,
   "outputs": [
    {
     "data": {
      "text/plain": "{'RMSE': 0.5702827007060995, 'Adjusted R2': 0.6394012537961569}"
     },
     "execution_count": 13,
     "metadata": {},
     "output_type": "execute_result"
    }
   ],
   "source": [
    "results\n"
   ],
   "metadata": {
    "collapsed": false,
    "ExecuteTime": {
     "end_time": "2023-08-19T17:04:35.282070200Z",
     "start_time": "2023-08-19T17:04:35.250551200Z"
    }
   },
   "id": "bc3daa87392bcc0d"
  }
 ],
 "metadata": {
  "kernelspec": {
   "display_name": "Python 3",
   "language": "python",
   "name": "python3"
  },
  "language_info": {
   "codemirror_mode": {
    "name": "ipython",
    "version": 2
   },
   "file_extension": ".py",
   "mimetype": "text/x-python",
   "name": "python",
   "nbconvert_exporter": "python",
   "pygments_lexer": "ipython2",
   "version": "2.7.6"
  }
 },
 "nbformat": 4,
 "nbformat_minor": 5
}
