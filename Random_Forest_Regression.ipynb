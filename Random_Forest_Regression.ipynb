{
 "cells": [
  {
   "cell_type": "code",
   "execution_count": 1,
   "metadata": {
    "collapsed": true,
    "ExecuteTime": {
     "end_time": "2023-08-01T15:03:30.711869700Z",
     "start_time": "2023-08-01T15:03:30.272111400Z"
    }
   },
   "outputs": [],
   "source": [
    "import pandas as pd\n",
    "import numpy as np\n",
    "import warnings\n",
    "warnings.filterwarnings('ignore')\n",
    "dataset = pd.read_csv('Housing.csv', quoting=3)"
   ]
  },
  {
   "cell_type": "code",
   "execution_count": 2,
   "outputs": [],
   "source": [
    "X = dataset.drop(columns='price').values\n",
    "y = dataset['price'].values"
   ],
   "metadata": {
    "collapsed": false,
    "ExecuteTime": {
     "end_time": "2023-08-01T15:03:30.727015700Z",
     "start_time": "2023-08-01T15:03:30.715859600Z"
    }
   }
  },
  {
   "cell_type": "code",
   "execution_count": 3,
   "outputs": [],
   "source": [
    "from sklearn.compose import ColumnTransformer\n",
    "from sklearn.preprocessing import OrdinalEncoder, StandardScaler\n",
    "\n",
    "\n",
    "\n",
    "\n",
    "steps = [\n",
    "         ('mainroad', OrdinalEncoder(categories=[[\"no\", \"yes\"]],dtype=np.int8),[4]),\n",
    "         ('guestroom', OrdinalEncoder(categories=[[\"no\", \"yes\"]],dtype=np.int8),[5]),\n",
    "         ('basement', OrdinalEncoder(categories=[[\"no\", \"yes\"]],dtype=np.int8),[6]),\n",
    "         ('hotwater', OrdinalEncoder(categories=[[\"no\", \"yes\"]],dtype=np.int8),[7]),\n",
    "         ('airconditioning', OrdinalEncoder(categories=[[\"no\", \"yes\"]],dtype=np.int8),[8]),\n",
    "         ('prefarea', OrdinalEncoder(categories=[[\"no\", \"yes\"]],dtype=np.int8), [10]),\n",
    "         ('furnishing', OrdinalEncoder(categories=[[\"unfurnished\", \"semi-furnished\", \"furnished\"]], dtype=np.int8), [11])\n",
    "         ]\n",
    "\n",
    "transformer = ColumnTransformer(transformers=steps, remainder='passthrough')\n"
   ],
   "metadata": {
    "collapsed": false,
    "ExecuteTime": {
     "end_time": "2023-08-01T15:03:31.291329600Z",
     "start_time": "2023-08-01T15:03:30.732971900Z"
    }
   }
  },
  {
   "cell_type": "code",
   "execution_count": 4,
   "outputs": [],
   "source": [
    "from sklearn.ensemble import RandomForestRegressor\n",
    "\n",
    "regressor = RandomForestRegressor(n_estimators=200)\n"
   ],
   "metadata": {
    "collapsed": false,
    "ExecuteTime": {
     "end_time": "2023-08-01T15:03:31.467365100Z",
     "start_time": "2023-08-01T15:03:31.295285500Z"
    }
   }
  },
  {
   "cell_type": "code",
   "execution_count": 5,
   "outputs": [
    {
     "name": "stdout",
     "output_type": "stream",
     "text": [
      "FOLD: 1\n",
      "R squared: 0.6497784156734968\n",
      "Root Mean Squared Error :  0.6153648995840332\n",
      "\n",
      "FOLD: 2\n",
      "R squared: 0.7329883703155273\n",
      "Root Mean Squared Error :  0.5195212587212233\n",
      "\n",
      "FOLD: 3\n",
      "R squared: 0.509972966417355\n",
      "Root Mean Squared Error :  0.7970931446078773\n",
      "\n",
      "FOLD: 4\n",
      "R squared: 0.7418986922817727\n",
      "Root Mean Squared Error :  0.5288520697935148\n",
      "\n",
      "FOLD: 5\n",
      "R squared: 0.5564640740585863\n",
      "Root Mean Squared Error :  0.6301745299271035\n",
      "\n",
      "FOLD: 6\n",
      "R squared: 0.6917808247957777\n",
      "Root Mean Squared Error :  0.4233324432764838\n",
      "\n",
      "FOLD: 7\n",
      "R squared: 0.6202845208998615\n",
      "Root Mean Squared Error :  0.509373741635984\n",
      "\n",
      "FOLD: 8\n",
      "R squared: 0.5542218572495281\n",
      "Root Mean Squared Error :  0.6223443755795174\n",
      "\n",
      "FOLD: 9\n",
      "R squared: 0.6545123816610315\n",
      "Root Mean Squared Error :  0.44353109020760334\n",
      "\n",
      "FOLD: 10\n",
      "R squared: 0.5184584598073322\n",
      "Root Mean Squared Error :  0.968028622193001\n",
      "\n"
     ]
    }
   ],
   "source": [
    "from sklearn.model_selection import KFold\n",
    "from sklearn.metrics import mean_squared_error, r2_score\n",
    "\n",
    "folds = 10\n",
    "kf = KFold(random_state=100,shuffle=True, n_splits=folds)\n",
    "i=1\n",
    "r2s = []\n",
    "mapes = []\n",
    "for train, test in kf.split(X):\n",
    "    X_train, X_test, y_train, y_test = X[train], X[test], y[train], y[test]\n",
    "    scaler = StandardScaler()\n",
    "    X_train = transformer.fit_transform(X_train)\n",
    "    X_test = transformer.transform(X_test)\n",
    "    X_train = scaler.fit_transform(X_train)\n",
    "    X_test = scaler.transform(X_test)\n",
    "    y_train = scaler.fit_transform(y_train.reshape(-1,1))\n",
    "    y_test = scaler.transform(y_test.reshape(-1,1))\n",
    "    regressor.fit(X_train,y_train)\n",
    "    y_pred = regressor.predict(X_test)\n",
    "    r2 = r2_score(y_test,y_pred)\n",
    "    mape = mean_squared_error(y_test,y_pred)\n",
    "    mape = np.sqrt(mape)\n",
    "    r2s.append(r2)\n",
    "    mapes.append(mape)\n",
    "    print(\"FOLD: \"+str(i))\n",
    "    print(\"R squared: \"+ str(r2))\n",
    "    print(\"Root Mean Squared Error :  \"+ str(mape))\n",
    "    print()\n",
    "    i+=1"
   ],
   "metadata": {
    "collapsed": false,
    "ExecuteTime": {
     "end_time": "2023-08-01T15:03:38.227909Z",
     "start_time": "2023-08-01T15:03:31.475331100Z"
    }
   }
  },
  {
   "cell_type": "code",
   "execution_count": 6,
   "outputs": [],
   "source": [
    "results = [type(regressor).__name__, folds,np.mean(r2s).round(4), np.std(r2s).round(4) , np.mean(mapes).round(4), np.std(mapes).round(4)]"
   ],
   "metadata": {
    "collapsed": false,
    "ExecuteTime": {
     "end_time": "2023-08-01T15:03:38.243182Z",
     "start_time": "2023-08-01T15:03:38.230901500Z"
    }
   }
  },
  {
   "cell_type": "code",
   "execution_count": 7,
   "outputs": [
    {
     "name": "stdout",
     "output_type": "stream",
     "text": [
      "Regressor: RandomForestRegressor\n",
      "Number of folds: 10\n",
      "Mean R squared: 0.623\n",
      "STD R squared: 0.081\n",
      "Mean RMSE: 0.6058\n",
      "STD RMSE: 0.1584\n"
     ]
    }
   ],
   "source": [
    "print(\"Regressor: \"+ results[0])\n",
    "print(\"Number of folds: \" + str(results[1]))\n",
    "print(\"Mean R squared: \" + str(results[2]))\n",
    "print(\"STD R squared: \"+ str(results[3]))\n",
    "print(\"Mean RMSE: \" + str(results[4]))\n",
    "print(\"STD RMSE: \"+ str(results[5]))"
   ],
   "metadata": {
    "collapsed": false,
    "ExecuteTime": {
     "end_time": "2023-08-01T15:03:38.288325300Z",
     "start_time": "2023-08-01T15:03:38.247143500Z"
    }
   }
  },
  {
   "cell_type": "code",
   "execution_count": 8,
   "outputs": [],
   "source": [
    "from csv import writer\n",
    "\n",
    "with open('results.csv','a') as f_object:\n",
    "    writer_object = writer(f_object)\n",
    "    writer_object.writerow(results)\n",
    "    f_object.close()"
   ],
   "metadata": {
    "collapsed": false,
    "ExecuteTime": {
     "end_time": "2023-08-01T15:03:38.295871900Z",
     "start_time": "2023-08-01T15:03:38.262497300Z"
    }
   }
  }
 ],
 "metadata": {
  "kernelspec": {
   "display_name": "Python 3",
   "language": "python",
   "name": "python3"
  },
  "language_info": {
   "codemirror_mode": {
    "name": "ipython",
    "version": 2
   },
   "file_extension": ".py",
   "mimetype": "text/x-python",
   "name": "python",
   "nbconvert_exporter": "python",
   "pygments_lexer": "ipython2",
   "version": "2.7.6"
  }
 },
 "nbformat": 4,
 "nbformat_minor": 0
}
