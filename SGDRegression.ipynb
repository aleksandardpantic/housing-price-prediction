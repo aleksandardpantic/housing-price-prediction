{
 "cells": [
  {
   "cell_type": "code",
   "execution_count": 9,
   "metadata": {
    "collapsed": true,
    "ExecuteTime": {
     "end_time": "2023-08-01T15:02:01.776372200Z",
     "start_time": "2023-08-01T15:02:01.758439800Z"
    }
   },
   "outputs": [],
   "source": [
    "import pandas as pd\n",
    "import numpy as np\n",
    "import warnings\n",
    "warnings.filterwarnings('ignore')\n",
    "dataset = pd.read_csv('Housing.csv', quoting=3)"
   ]
  },
  {
   "cell_type": "code",
   "execution_count": 10,
   "outputs": [],
   "source": [
    "X = dataset.drop(columns='price').values\n",
    "y = dataset['price'].values"
   ],
   "metadata": {
    "collapsed": false,
    "ExecuteTime": {
     "end_time": "2023-08-01T15:02:01.834804900Z",
     "start_time": "2023-08-01T15:02:01.775346400Z"
    }
   }
  },
  {
   "cell_type": "code",
   "execution_count": 11,
   "outputs": [],
   "source": [
    "from sklearn.compose import ColumnTransformer\n",
    "from sklearn.preprocessing import OrdinalEncoder, StandardScaler\n",
    "\n",
    "\n",
    "\n",
    "\n",
    "steps = [\n",
    "         ('mainroad', OrdinalEncoder(categories=[[\"no\", \"yes\"]],dtype=np.int8),[4]),\n",
    "         ('guestroom', OrdinalEncoder(categories=[[\"no\", \"yes\"]],dtype=np.int8),[5]),\n",
    "         ('basement', OrdinalEncoder(categories=[[\"no\", \"yes\"]],dtype=np.int8),[6]),\n",
    "         ('hotwater', OrdinalEncoder(categories=[[\"no\", \"yes\"]],dtype=np.int8),[7]),\n",
    "         ('airconditioning', OrdinalEncoder(categories=[[\"no\", \"yes\"]],dtype=np.int8),[8]),\n",
    "         ('prefarea', OrdinalEncoder(categories=[[\"no\", \"yes\"]],dtype=np.int8), [10]),\n",
    "         ('furnishing', OrdinalEncoder(categories=[[\"unfurnished\", \"semi-furnished\", \"furnished\"]], dtype=np.int8), [11])\n",
    "         ]\n",
    "\n",
    "transformer = ColumnTransformer(transformers=steps, remainder='passthrough')\n"
   ],
   "metadata": {
    "collapsed": false,
    "ExecuteTime": {
     "end_time": "2023-08-01T15:02:01.835802300Z",
     "start_time": "2023-08-01T15:02:01.803920300Z"
    }
   }
  },
  {
   "cell_type": "code",
   "execution_count": 12,
   "outputs": [],
   "source": [
    "from sklearn.linear_model import SGDRegressor\n",
    "\n",
    "regressor = SGDRegressor(random_state=100, shuffle=True)\n"
   ],
   "metadata": {
    "collapsed": false,
    "ExecuteTime": {
     "end_time": "2023-08-01T15:02:01.835802300Z",
     "start_time": "2023-08-01T15:02:01.806907400Z"
    }
   }
  },
  {
   "cell_type": "code",
   "execution_count": 13,
   "outputs": [
    {
     "name": "stdout",
     "output_type": "stream",
     "text": [
      "FOLD: 1\n",
      "R squared: 0.5924341970617988\n",
      "Root Mean Squared Error :  0.6638349823390809\n",
      "\n",
      "FOLD: 2\n",
      "R squared: 0.7726070840973647\n",
      "Root Mean Squared Error :  0.47943164919583103\n",
      "\n",
      "FOLD: 3\n",
      "R squared: 0.6621430657679714\n",
      "Root Mean Squared Error :  0.6618589905840481\n",
      "\n",
      "FOLD: 4\n",
      "R squared: 0.7084313430742526\n",
      "Root Mean Squared Error :  0.5620947436699681\n",
      "\n",
      "FOLD: 5\n",
      "R squared: 0.6347277214060632\n",
      "Root Mean Squared Error :  0.5718798591003335\n",
      "\n",
      "FOLD: 6\n",
      "R squared: 0.6883753848909746\n",
      "Root Mean Squared Error :  0.4256646683514394\n",
      "\n",
      "FOLD: 7\n",
      "R squared: 0.645788633594638\n",
      "Root Mean Squared Error :  0.4919700322854853\n",
      "\n",
      "FOLD: 8\n",
      "R squared: 0.5934392230035943\n",
      "Root Mean Squared Error :  0.5943388540857039\n",
      "\n",
      "FOLD: 9\n",
      "R squared: 0.6803011245491047\n",
      "Root Mean Squared Error :  0.4266565118812578\n",
      "\n",
      "FOLD: 10\n",
      "R squared: 0.6093116148386519\n",
      "Root Mean Squared Error :  0.8719399369558518\n",
      "\n"
     ]
    }
   ],
   "source": [
    "from sklearn.model_selection import KFold\n",
    "from sklearn.metrics import mean_squared_error, r2_score\n",
    "\n",
    "folds = 10\n",
    "kf = KFold(random_state=100,shuffle=True, n_splits=folds)\n",
    "i=1\n",
    "r2s = []\n",
    "mapes = []\n",
    "for train, test in kf.split(X):\n",
    "    X_train, X_test, y_train, y_test = X[train], X[test], y[train], y[test]\n",
    "    scaler = StandardScaler()\n",
    "    X_train = transformer.fit_transform(X_train)\n",
    "    X_test = transformer.transform(X_test)\n",
    "    X_train = scaler.fit_transform(X_train)\n",
    "    X_test = scaler.transform(X_test)\n",
    "    y_train = scaler.fit_transform(y_train.reshape(-1,1))\n",
    "    y_test = scaler.transform(y_test.reshape(-1,1))\n",
    "    regressor.fit(X_train,y_train)\n",
    "    y_pred = regressor.predict(X_test)\n",
    "    r2 = r2_score(y_test,y_pred)\n",
    "    mape = mean_squared_error(y_test,y_pred)\n",
    "    mape = np.sqrt(mape)\n",
    "    r2s.append(r2)\n",
    "    mapes.append(mape)\n",
    "    print(\"FOLD: \"+str(i))\n",
    "    print(\"R squared: \"+ str(r2))\n",
    "    print(\"Root Mean Squared Error :  \"+ str(mape))\n",
    "    print()\n",
    "    i+=1"
   ],
   "metadata": {
    "collapsed": false,
    "ExecuteTime": {
     "end_time": "2023-08-01T15:02:01.942750600Z",
     "start_time": "2023-08-01T15:02:01.823835200Z"
    }
   }
  },
  {
   "cell_type": "code",
   "execution_count": 14,
   "outputs": [],
   "source": [
    "results = [type(regressor).__name__, folds,np.mean(r2s).round(4), np.std(r2s).round(4) , np.mean(mapes).round(4), np.std(mapes).round(4)]"
   ],
   "metadata": {
    "collapsed": false,
    "ExecuteTime": {
     "end_time": "2023-08-01T15:02:01.987436Z",
     "start_time": "2023-08-01T15:02:01.943746800Z"
    }
   }
  },
  {
   "cell_type": "code",
   "execution_count": 15,
   "outputs": [
    {
     "name": "stdout",
     "output_type": "stream",
     "text": [
      "Regressor: SGDRegressor\n",
      "Number of folds: 10\n",
      "Mean R squared: 0.6588\n",
      "STD R squared: 0.0535\n",
      "Mean RMSE: 0.575\n",
      "STD RMSE: 0.1283\n"
     ]
    }
   ],
   "source": [
    "print(\"Regressor: \"+ results[0])\n",
    "print(\"Number of folds: \" + str(results[1]))\n",
    "print(\"Mean R squared: \" + str(results[2]))\n",
    "print(\"STD R squared: \"+ str(results[3]))\n",
    "print(\"Mean RMSE: \" + str(results[4]))\n",
    "print(\"STD RMSE: \"+ str(results[5]))"
   ],
   "metadata": {
    "collapsed": false,
    "ExecuteTime": {
     "end_time": "2023-08-01T15:02:01.995416Z",
     "start_time": "2023-08-01T15:02:01.958514100Z"
    }
   }
  },
  {
   "cell_type": "code",
   "execution_count": 17,
   "outputs": [],
   "source": [
    "from csv import writer\n",
    "\n",
    "with open('results.csv','a') as f_object:\n",
    "    writer_object = writer(f_object)\n",
    "    writer_object.writerow(results)\n",
    "    f_object.close()"
   ],
   "metadata": {
    "collapsed": false,
    "ExecuteTime": {
     "end_time": "2023-08-01T15:02:11.917674100Z",
     "start_time": "2023-08-01T15:02:11.910690200Z"
    }
   }
  }
 ],
 "metadata": {
  "kernelspec": {
   "display_name": "Python 3",
   "language": "python",
   "name": "python3"
  },
  "language_info": {
   "codemirror_mode": {
    "name": "ipython",
    "version": 2
   },
   "file_extension": ".py",
   "mimetype": "text/x-python",
   "name": "python",
   "nbconvert_exporter": "python",
   "pygments_lexer": "ipython2",
   "version": "2.7.6"
  }
 },
 "nbformat": 4,
 "nbformat_minor": 0
}
